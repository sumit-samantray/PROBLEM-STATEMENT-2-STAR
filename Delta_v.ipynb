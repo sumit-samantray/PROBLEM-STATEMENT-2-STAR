{
  "nbformat": 4,
  "nbformat_minor": 0,
  "metadata": {
    "colab": {
      "name": "Delta_v.ipynb",
      "provenance": [],
      "collapsed_sections": []
    },
    "kernelspec": {
      "name": "python3",
      "display_name": "Python 3"
    },
    "language_info": {
      "name": "python"
    }
  },
  "cells": [
    {
      "cell_type": "code",
      "metadata": {
        "id": "R1vMtdTQyP5X"
      },
      "source": [
        "# fundamental constants\n",
        "G = 6.67 * 10**-11 # Nm^2/kg^2 gravitational constant\n",
        "Me = 5.972 * 10**24 #kg mass of earth\n",
        "Mm = 6.39 * 10**23 #kg mass of mars\n",
        "Ms = 1.989 * 10**30 #kg mass of sun\n",
        "re = 6378.1 * 10**3 #m radius of earth\n",
        "rm = 3389.5 * 10**3 #m radius of mars\n",
        "rse = 152.07 * 10**9 #m distance between earth and sun\n",
        "rsm = 250.71 * 10**9 #m distance between mars and sun\n",
        "Ml = 1500 # mass of lander in kg"
      ],
      "execution_count": null,
      "outputs": []
    },
    {
      "cell_type": "code",
      "metadata": {
        "id": "_D5_ovdTzFfn",
        "colab": {
          "base_uri": "https://localhost:8080/"
        },
        "outputId": "836a2981-9962-4cf4-e8cc-47db90baf9bd"
      },
      "source": [
        "# velocity values during orbit\n",
        "import math\n",
        "rpe = float(input(\"ENTER THE RADIUS OF CIRCULAR PARKING ORBIT FOR EARTH (IN KM)\")) # parking orbit of earth(m)\n",
        "rpm = float(input(\"ENTER THE RADIUS OF CIRCULAR PARKING ORBIT FOR MARS (IN KM)\")) # parking orbit of mars(m)\n",
        "rpe *= 10**3\n",
        "rpm *= 10**3\n",
        "rce = rpe + re # radius of earth's parking orbit from center of earth\n",
        "rcm = rpm + rm # radius of mars' parking orbit from center of mars\n",
        "ve = math.sqrt(G*Ms/rse) # speed of revolution of earth around the sun\n",
        "vm = math.sqrt(G*Ms/rsm) # speed of revolution of mars around the sun\n",
        "v1 = 0\n",
        "v2 = math.sqrt(G*Me/rce) #m/s\n",
        "velip1 = math.sqrt(G*Ms*(2/rse - 2/(rsm + rse))) #velocity at perigee of Hohmann transfer orbit\n",
        "velip2 = math.sqrt(G*Ms*(2/rsm - 2/(rsm + rse))) #velocity at apogee of Hohmann transfer orbit\n",
        "vesc = velip1 - ve # velocity of vehicle at end of hyperbolic escape trajectory wrt earth\n",
        "v3 = math.sqrt(2*G*Me/rce + vesc*vesc) # velocity of vehicle at beginning of hyperbolic escape trajectory wrt earth\n",
        "vcap = vm - velip2 # velocity outside the sphere of influence of mars wrt mars\n",
        "v4 = math.sqrt(2*G*Mm/rcm + vcap*vcap) # velocity at the end of hyperbolic capture orbit wrt mars\n",
        "v5 = math.sqrt(G*Mm/rcm)"
      ],
      "execution_count": null,
      "outputs": [
        {
          "output_type": "stream",
          "text": [
            "ENTER THE RADIUS OF CIRCULAR PARKING ORBIT FOR EARTH (IN KM)200\n",
            "ENTER THE RADIUS OF CIRCULAR PARKING ORBIT FOR MARS (IN KM)150\n"
          ],
          "name": "stdout"
        }
      ]
    },
    {
      "cell_type": "code",
      "metadata": {
        "id": "aBgUxHdu9-OT"
      },
      "source": [
        "# delta v values\n",
        "dv1 = v2 - v1 \n",
        "dv2 = v3 - v2 # prograde burn\n",
        "dv3 = v4 - v5 # retrograde burn (magnitude)"
      ],
      "execution_count": null,
      "outputs": []
    },
    {
      "cell_type": "code",
      "metadata": {
        "colab": {
          "base_uri": "https://localhost:8080/"
        },
        "id": "uHv-3m7BA_x9",
        "outputId": "adcbc4db-e084-4848-c21e-1eb1cdcca928"
      },
      "source": [
        "# output printing:\n",
        "print(\"RESULTS:\")\n",
        "print(\"INPUT PARKING ORBIT RADII:\")\n",
        "print(\"Radius of parking orbit of Earth = \", rpe, \"m\")\n",
        "print(\"Radius of parking orbit of Mars = \", rpm, \"m\")\n",
        "print(\"VELOCITY VALUES:\")\n",
        "print(\"Earth orbital velocity of vehicle = \", v2, \"m/s\")\n",
        "print(\"Velocity at perigee of Hohmann transfer orbit = \", velip1, \"m/s\")\n",
        "print(\"Velocity at apogee of Hohmann transfer orbit = \", velip2, \"m/s\")\n",
        "print(\"Velocity of vehicle at end of hyperbolic escape trajectory wrt earth = \", vesc, \"m/s\")\n",
        "print(\"Velocity of vehicle at beginning of hyperbolic escape trajectory wrt earth = \", v3, \"m/s\")\n",
        "print(\"Velocity outside the sphere of influence of mars wrt mars = \", vcap, \"m/s\")\n",
        "print(\"Velocity at the end of hyperbolic capture orbit wrt mars = \", v4, \"m/s\")\n",
        "print(\"Mars orbital velocity of vehicle = \", v5, \"m/s\")\n",
        "print(\"DELTA V VALUES:\")\n",
        "print(\"Delta-v 1(parking delta-v) = \", dv1, \"m/s\")\n",
        "print(\"Delta-v 2(escape delta-v/ prograde burn) = \", dv2, \"m/s\")\n",
        "print(\"Delta-v 3(capture delta-v/ retrograde burn) = \", dv3, \"m/s\")\n",
        "print(\"TOTAL DELTA-V BUDGET: \", dv1 + dv2 + dv3, \"m/s\")\n",
        "print(\"TOTAL IMPULSE = \", Ml*(dv1 + dv2 + dv3), \"Ns\")\n",
        "print(dv2 + dv3)"
      ],
      "execution_count": null,
      "outputs": [
        {
          "output_type": "stream",
          "text": [
            "RESULTS:\n",
            "INPUT PARKING ORBIT RADII:\n",
            "Radius of parking orbit of Earth =  200000.0 m\n",
            "Radius of parking orbit of Mars =  150000.0 m\n",
            "VELOCITY VALUES:\n",
            "Earth orbital velocity of vehicle =  7781.665901139458 m/s\n",
            "Velocity at perigee of Hohmann transfer orbit =  32955.310893606 m/s\n",
            "Velocity at apogee of Hohmann transfer orbit =  19989.28693546593 m/s\n",
            "Velocity of vehicle at end of hyperbolic escape trajectory wrt earth =  3418.8446053547705 m/s\n",
            "Velocity of vehicle at beginning of hyperbolic escape trajectory wrt earth =  11523.76443830212 m/s\n",
            "Velocity outside the sphere of influence of mars wrt mars =  3014.2427685617295 m/s\n",
            "Velocity at the end of hyperbolic capture orbit wrt mars =  5759.244009655724 m/s\n",
            "Mars orbital velocity of vehicle =  3470.1031753341763 m/s\n",
            "DELTA V VALUES:\n",
            "Delta-v 1(parking delta-v) =  7781.665901139458 m/s\n",
            "Delta-v 2(escape delta-v/ prograde burn) =  3742.098537162662 m/s\n",
            "Delta-v 3(capture delta-v/ retrograde burn) =  2289.1408343215476 m/s\n",
            "TOTAL DELTA-V BUDGET:  13812.905272623668 m/s\n",
            "TOTAL IMPULSE =  20719357.908935502 Ns\n",
            "6031.239371484209\n"
          ],
          "name": "stdout"
        }
      ]
    }
  ]
}